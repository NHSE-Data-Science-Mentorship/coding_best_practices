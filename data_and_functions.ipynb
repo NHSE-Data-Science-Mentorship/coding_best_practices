{
 "cells": [
  {
   "cell_type": "markdown",
   "metadata": {},
   "source": [
    "# Data Types and Functions in Python"
   ]
  },
  {
   "cell_type": "code",
   "execution_count": null,
   "metadata": {},
   "outputs": [],
   "source": [
    "from typing import List"
   ]
  },
  {
   "cell_type": "markdown",
   "metadata": {},
   "source": [
    "## Data Types"
   ]
  },
  {
   "cell_type": "markdown",
   "metadata": {},
   "source": [
    "Python supports many types of data structures for assigning to variables"
   ]
  },
  {
   "cell_type": "markdown",
   "metadata": {},
   "source": [
    "### Strings"
   ]
  },
  {
   "cell_type": "markdown",
   "metadata": {},
   "source": [
    "Strings store alpha numeric data such as characters or words. Eg."
   ]
  },
  {
   "cell_type": "code",
   "execution_count": null,
   "metadata": {},
   "outputs": [],
   "source": [
    "x = \"Hello\"\n",
    "type(x)"
   ]
  },
  {
   "cell_type": "markdown",
   "metadata": {},
   "source": [
    "### Numerical"
   ]
  },
  {
   "cell_type": "markdown",
   "metadata": {},
   "source": [
    "There are two main types of numerical data in Python: Integers and Floats. Integers store whole numbers and floats which store decimal numbers"
   ]
  },
  {
   "cell_type": "code",
   "execution_count": null,
   "metadata": {},
   "outputs": [],
   "source": [
    "x = 1\n",
    "type(x)"
   ]
  },
  {
   "cell_type": "code",
   "execution_count": null,
   "metadata": {},
   "outputs": [],
   "source": [
    "x = 1.5\n",
    "type(x)"
   ]
  },
  {
   "cell_type": "markdown",
   "metadata": {},
   "source": [
    "### Lists"
   ]
  },
  {
   "cell_type": "markdown",
   "metadata": {},
   "source": [
    "When we want to store a collection of ordered data we can use a list"
   ]
  },
  {
   "cell_type": "code",
   "execution_count": null,
   "metadata": {},
   "outputs": [],
   "source": [
    "x = [1,2,3,4,5]\n",
    "type(x)"
   ]
  },
  {
   "cell_type": "markdown",
   "metadata": {},
   "source": [
    "Elements of a list can be any other data type"
   ]
  },
  {
   "cell_type": "code",
   "execution_count": null,
   "metadata": {},
   "outputs": [],
   "source": [
    "type(x[1])"
   ]
  },
  {
   "cell_type": "markdown",
   "metadata": {},
   "source": [
    "Including mixed"
   ]
  },
  {
   "cell_type": "code",
   "execution_count": null,
   "metadata": {},
   "outputs": [],
   "source": [
    "y = [[1,2,3], 4, \"Hello\"]\n",
    "print(type(y))\n",
    "print(type(y[0]))\n",
    "print(type(y[1]))\n",
    "print(type(y[2]))"
   ]
  },
  {
   "cell_type": "markdown",
   "metadata": {},
   "source": [
    "### Dictionaries"
   ]
  },
  {
   "cell_type": "markdown",
   "metadata": {},
   "source": [
    "These are used to store key value pairs. They are a lot like lists only we'd rather have more control over a label than using an index"
   ]
  },
  {
   "cell_type": "code",
   "execution_count": null,
   "metadata": {},
   "outputs": [],
   "source": [
    "person = {\"Name\": \"Alice\", \"Age\": 23}\n",
    "print(type(person))"
   ]
  },
  {
   "cell_type": "markdown",
   "metadata": {},
   "source": [
    "Anything can be a value, including other dictionaries"
   ]
  },
  {
   "cell_type": "code",
   "execution_count": null,
   "metadata": {},
   "outputs": [],
   "source": [
    "person = {\"Name\": \"Alice\", \"Age\": 23, \"Friends\": [{\"Name\": \"Bob\", \"Age\": 43}, {\"Name\": \"Peter\", \"Age\": 33}]}\n",
    "print(type(person[\"Name\"]))\n",
    "print(type(person[\"Friends\"]))\n",
    "print(type(person[\"Friends\"][0]))"
   ]
  },
  {
   "cell_type": "markdown",
   "metadata": {},
   "source": [
    "Combining these data types we can construct complex data structures to represent what we are modelling:"
   ]
  },
  {
   "cell_type": "code",
   "execution_count": null,
   "metadata": {},
   "outputs": [],
   "source": [
    "client = {\"Name\": \"Claire\", \"Age\": 34, \"Career\": {\"Employeer\": \"NHS\", \"Years_of_service\": 4, \"Role\": \"Nurse\"}, \"Children\": [\"David\", \"Elliot\"], }\n",
    "display(client)"
   ]
  },
  {
   "cell_type": "code",
   "execution_count": null,
   "metadata": {},
   "outputs": [],
   "source": [
    "clients = [{\"Name\": \"Bob\", \"Age\": 34, \"Career\": {\"Employeer\": \"NHS\", \"Years_of_service\": 4, \"Role\": \"Nurse\"}, \"Children\": [\"David\", \"Elliot\"], }, {\"Name\": \"Sam\", \"Age\": 24, \"Career\": {\"Employeer\": \"BT\", \"Years_of_service\": 1, \"Role\": \"Technician\"}, \"Children\": [], }]\n",
    "display(clients)"
   ]
  },
  {
   "cell_type": "markdown",
   "metadata": {},
   "source": [
    "## Mutable Data Vs Immutable Data"
   ]
  },
  {
   "cell_type": "markdown",
   "metadata": {},
   "source": [
    "When it comes to storing data there are two schools of thought. Once data is assigned if it not allowed to change we refer to it as immutable. If the data can change it is referred to as mutatable."
   ]
  },
  {
   "cell_type": "markdown",
   "metadata": {},
   "source": [
    "### Mutable data:"
   ]
  },
  {
   "cell_type": "markdown",
   "metadata": {},
   "source": [
    "#### Lists:"
   ]
  },
  {
   "cell_type": "code",
   "execution_count": null,
   "metadata": {},
   "outputs": [],
   "source": [
    "x = [1,2,3]\n",
    "print(x[1])"
   ]
  },
  {
   "cell_type": "code",
   "execution_count": null,
   "metadata": {},
   "outputs": [],
   "source": [
    "x[1] = 3\n",
    "print(x)"
   ]
  },
  {
   "cell_type": "markdown",
   "metadata": {},
   "source": [
    "#### Dictionaries:"
   ]
  },
  {
   "cell_type": "code",
   "execution_count": null,
   "metadata": {},
   "outputs": [],
   "source": [
    "x = {\"Name\": \"Pete\", \"Age\": 23}\n",
    "print(x[\"Name\"])"
   ]
  },
  {
   "cell_type": "code",
   "execution_count": null,
   "metadata": {},
   "outputs": [],
   "source": [
    "x[\"Name\"] = \"Sam\"\n",
    "print(x)"
   ]
  },
  {
   "cell_type": "markdown",
   "metadata": {},
   "source": [
    "### Immutable Data"
   ]
  },
  {
   "cell_type": "markdown",
   "metadata": {},
   "source": [
    "#### Tuples"
   ]
  },
  {
   "cell_type": "code",
   "execution_count": null,
   "metadata": {},
   "outputs": [],
   "source": [
    "x = (\"Apple\", \"Mango\")\n",
    "print(x[0])"
   ]
  },
  {
   "cell_type": "code",
   "execution_count": null,
   "metadata": {},
   "outputs": [],
   "source": [
    "x[0] = \"Banana\""
   ]
  },
  {
   "cell_type": "markdown",
   "metadata": {},
   "source": [
    "Generally speaking its a bad idea to mutate your data, it makes it much harder to debug and reason about. However sometimes its unavoidable."
   ]
  },
  {
   "cell_type": "markdown",
   "metadata": {},
   "source": [
    "## Functions"
   ]
  },
  {
   "cell_type": "markdown",
   "metadata": {},
   "source": [
    "The role of functions in Python is to typically transform data. They often take data as an input and return data as an output"
   ]
  },
  {
   "cell_type": "code",
   "execution_count": null,
   "metadata": {},
   "outputs": [],
   "source": [
    "def add_3(num: int) -> int:\n",
    "    return num + 3 \n",
    "\n",
    "add_3(5)"
   ]
  },
  {
   "cell_type": "markdown",
   "metadata": {},
   "source": [
    "Notice the type hints in the function. This makes functions much easier to understand!"
   ]
  },
  {
   "cell_type": "markdown",
   "metadata": {},
   "source": [
    "### DRY Principle"
   ]
  },
  {
   "cell_type": "markdown",
   "metadata": {},
   "source": [
    "Do not repeat yourself (DRY). If in your code you find you are doing the same things multiple times you should write a function instead:"
   ]
  },
  {
   "cell_type": "code",
   "execution_count": null,
   "metadata": {},
   "outputs": [],
   "source": [
    "# Combine data\n",
    "x = [1,2,3,4,5,6]\n",
    "y = [2,4,7,8,4]\n",
    "\n",
    "sum_x = 0\n",
    "for val in x:\n",
    "    sum_x += val\n",
    "\n",
    "sum_y = 0\n",
    "for val in y:\n",
    "    sum_y += val\n",
    "    \n",
    "combined_data = sum_x + sum_y\n",
    "print(combined_data)"
   ]
  },
  {
   "cell_type": "markdown",
   "metadata": {},
   "source": [
    "This is better represented as:"
   ]
  },
  {
   "cell_type": "code",
   "execution_count": null,
   "metadata": {},
   "outputs": [],
   "source": [
    "def combine_list(data: List[int]) -> int:\n",
    "    sum_data = 0 \n",
    "    for val in data:\n",
    "        sum_data += val\n",
    "    return sum_data"
   ]
  },
  {
   "cell_type": "code",
   "execution_count": null,
   "metadata": {},
   "outputs": [],
   "source": [
    "# Combine data\n",
    "x = [1,2,3,4,5,6]\n",
    "y = [2,4,7,8,4]\n",
    "combined_data = combine_list(x) + combine_list(y)\n",
    "combined_data "
   ]
  },
  {
   "cell_type": "markdown",
   "metadata": {},
   "source": [
    "Say we need to change how we combine lists to taking the maximum element. This requires a lot of change in the first example"
   ]
  },
  {
   "cell_type": "code",
   "execution_count": null,
   "metadata": {},
   "outputs": [],
   "source": [
    "# Combine data\n",
    "x = [1,2,3,4,5,6]\n",
    "y = [2,4,7,8,4]\n",
    "\n",
    "max_x = 0\n",
    "for val in x:\n",
    "    if val > max_x:\n",
    "        max_x = val\n",
    "\n",
    "max_y = 0\n",
    "for val in y:\n",
    "    if val > max_y:\n",
    "        max_y = val\n",
    "    \n",
    "combined_data = max_x + max_y\n",
    "print(combined_data)"
   ]
  },
  {
   "cell_type": "markdown",
   "metadata": {},
   "source": [
    "Verses just updating the function"
   ]
  },
  {
   "cell_type": "code",
   "execution_count": null,
   "metadata": {},
   "outputs": [],
   "source": [
    "def combine_list(data: List[int]) -> int:\n",
    "    max_data = 0 \n",
    "    for val in data:\n",
    "        if val > max_data:\n",
    "            max_data = val\n",
    "    return max_data"
   ]
  },
  {
   "cell_type": "code",
   "execution_count": null,
   "metadata": {},
   "outputs": [],
   "source": [
    "# Combine data\n",
    "x = [1,2,3,4,5,6]\n",
    "y = [2,4,7,8,4]\n",
    "combined_data = combine_list(x) + combine_list(y)\n",
    "combined_data "
   ]
  },
  {
   "cell_type": "markdown",
   "metadata": {},
   "source": [
    "## Function cohesion"
   ]
  },
  {
   "cell_type": "markdown",
   "metadata": {},
   "source": [
    "Functions should generally do one thing well. If a function has too many responsibilities it becomes difficult to understand, reason about, test and maintain"
   ]
  },
  {
   "cell_type": "code",
   "execution_count": null,
   "metadata": {},
   "outputs": [],
   "source": [
    "def process_data(data: List[int], threshold: int) -> float:\n",
    "    data_without_duplication = []\n",
    "    for datum in data:\n",
    "        if datum not in data_without_duplication:\n",
    "            data_without_duplication.append(datum)\n",
    "    absolute_value_of_data = []\n",
    "    for datum in data_without_duplication:\n",
    "        absolute_value_of_data.append(abs(datum))\n",
    "    data_without_outliers = []\n",
    "    for datum in absolute_value_of_data:\n",
    "        if datum <= threshold:\n",
    "            data_without_outliers.append(datum)\n",
    "    sum_of_data = 0\n",
    "    counter = 0\n",
    "    for datum in data_without_outliers:\n",
    "        sum_of_data += datum\n",
    "        counter += 1\n",
    "    return sum_of_data/counter\n",
    "\n",
    "\n",
    "process_data([1,2,3,-5,6,3], 5)"
   ]
  },
  {
   "cell_type": "markdown",
   "metadata": {},
   "source": [
    "The above is a mess. Its really hard to understand what is happening and debug. Its also going to be difficult to change the process if we need to in the future and it'll be hard to test."
   ]
  },
  {
   "cell_type": "code",
   "execution_count": null,
   "metadata": {},
   "outputs": [],
   "source": [
    "def deduplicate_data(data: List[int]) -> List[int]:\n",
    "    data_without_duplication = []\n",
    "    for datum in data:\n",
    "        if datum not in data_without_duplication:\n",
    "            data_without_duplication.append(datum)\n",
    "    return data_without_duplication\n",
    "\n",
    "def absolute_value_of_data(data: List[int]) -> List[int]:\n",
    "    absolute_value_of_data = []\n",
    "    for datum in data:\n",
    "        absolute_value_of_data.append(abs(datum))\n",
    "    return absolute_value_of_data\n",
    "\n",
    "def remove_outliers(data: List[int], threshold: int) -> List[int]:\n",
    "    data_without_outliers = []\n",
    "    for datum in data:\n",
    "        if datum <= threshold:\n",
    "            data_without_outliers.append(datum)\n",
    "    return data_without_outliers\n",
    "\n",
    "def compute_mean(data: List[int]) -> float:\n",
    "    return sum(data)/len(data)\n",
    "\n",
    "def process_data(data: List[int], threshold: int) -> float:\n",
    "    data = deduplicate_data(data)\n",
    "    data = absolute_value_of_data(data)\n",
    "    data = remove_outliers(data, threshold)\n",
    "    return compute_mean(data)\n",
    "\n",
    "process_data([1,2,3,-5,6,3], 5)\n",
    "    "
   ]
  },
  {
   "cell_type": "markdown",
   "metadata": {},
   "source": [
    "This code is much easier to understand. The functions only do one thing and are well named to explain their task, we can actually use them in other parts of the codebase. Its also now easy to understand the process data pipeline. We can test each function induvidually and easily add/update the functions if the process changes. This code has high cohesion."
   ]
  },
  {
   "cell_type": "code",
   "execution_count": null,
   "metadata": {},
   "outputs": [],
   "source": []
  }
 ],
 "metadata": {
  "kernelspec": {
   "display_name": "Python [conda env:Python3] *",
   "language": "python",
   "name": "conda-env-Python3-py"
  },
  "language_info": {
   "codemirror_mode": {
    "name": "ipython",
    "version": 3
   },
   "file_extension": ".py",
   "mimetype": "text/x-python",
   "name": "python",
   "nbconvert_exporter": "python",
   "pygments_lexer": "ipython3",
   "version": "3.8.2"
  }
 },
 "nbformat": 4,
 "nbformat_minor": 2
}
