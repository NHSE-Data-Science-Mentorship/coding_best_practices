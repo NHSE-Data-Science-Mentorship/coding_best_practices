{
 "cells": [
  {
   "cell_type": "markdown",
   "metadata": {},
   "source": [
    "`basic_classes.ipynb` [5-Oct-2021] is provided to NHS England under licence from Faculty Science Ltd."
   ]
  },
  {
   "cell_type": "code",
   "execution_count": null,
   "metadata": {},
   "outputs": [],
   "source": [
    "from typing import Dict, List, Union"
   ]
  },
  {
   "cell_type": "markdown",
   "metadata": {},
   "source": [
    "# Classes - The Basics"
   ]
  },
  {
   "cell_type": "markdown",
   "metadata": {},
   "source": [
    "## Encapsulation"
   ]
  },
  {
   "cell_type": "markdown",
   "metadata": {},
   "source": [
    "Often we want to encapsulate concepts in our program together. We want to create a data structure that represents something. We saw an example of this with dictionaries"
   ]
  },
  {
   "cell_type": "code",
   "execution_count": null,
   "metadata": {},
   "outputs": [],
   "source": [
    "person = {\"Name\": \"Alice\", \"Age\": 23, \"Friends\": [\"Bob\", \"Peter\"]}"
   ]
  },
  {
   "cell_type": "markdown",
   "metadata": {},
   "source": [
    "We might want to write code that understands this concept of a person"
   ]
  },
  {
   "cell_type": "code",
   "execution_count": null,
   "metadata": {},
   "outputs": [],
   "source": [
    "def print_age(person: Dict[str, Union[str, int, List[str]]]) -> None:\n",
    "    print(person[\"Age\"])"
   ]
  },
  {
   "cell_type": "code",
   "execution_count": null,
   "metadata": {},
   "outputs": [],
   "source": [
    "print_age(person)"
   ]
  },
  {
   "cell_type": "markdown",
   "metadata": {},
   "source": [
    "If we looked at the function above it might not be hugely clear how to create these person representations. What if a person has no age?"
   ]
  },
  {
   "cell_type": "code",
   "execution_count": null,
   "metadata": {},
   "outputs": [],
   "source": [
    "person = {\"Name\": \"Alice\", \"Friends\": [\"Bob\", \"Peter\"]}\n",
    "print_age(person)"
   ]
  },
  {
   "cell_type": "markdown",
   "metadata": {},
   "source": [
    "This is where classes can be useful. We can define a new data type in Python called Person and define how it should be structured"
   ]
  },
  {
   "cell_type": "code",
   "execution_count": null,
   "metadata": {},
   "outputs": [],
   "source": [
    "class Person:\n",
    "    def __init__(self, name: str, age: int, friends: List[str]):\n",
    "        self.name = name\n",
    "        self.age = age\n",
    "        self.friends = friends"
   ]
  },
  {
   "cell_type": "markdown",
   "metadata": {},
   "source": [
    "The __init__ function in the class is called the constructor, it how we assign properties to our new data type (called an Object) when it is defined. This is sometimes called instantiating a class."
   ]
  },
  {
   "cell_type": "code",
   "execution_count": null,
   "metadata": {},
   "outputs": [],
   "source": [
    "person = Person(\"Alice\", 23, [\"Bob\", \"Peter\"])\n",
    "type(person)"
   ]
  },
  {
   "cell_type": "markdown",
   "metadata": {},
   "source": [
    "We can now access the properties of our person object using the dot notation"
   ]
  },
  {
   "cell_type": "code",
   "execution_count": null,
   "metadata": {},
   "outputs": [],
   "source": [
    "print(person.name)\n",
    "print(person.age)\n",
    "print(person.friends)"
   ]
  },
  {
   "cell_type": "markdown",
   "metadata": {},
   "source": [
    "Lets rewrite our old function"
   ]
  },
  {
   "cell_type": "code",
   "execution_count": null,
   "metadata": {},
   "outputs": [],
   "source": [
    "def print_age(person: Person) -> None:\n",
    "    print(person.age)"
   ]
  },
  {
   "cell_type": "code",
   "execution_count": null,
   "metadata": {},
   "outputs": [],
   "source": [
    "print_age(person)"
   ]
  },
  {
   "cell_type": "markdown",
   "metadata": {},
   "source": [
    "In many ways the print age function belongs with the Person object. We can group it by adding it to the class as a method. Eg:"
   ]
  },
  {
   "cell_type": "code",
   "execution_count": null,
   "metadata": {},
   "outputs": [],
   "source": [
    "class Person:\n",
    "    def __init__(self, name: str, age: int, friends: List[str]):\n",
    "        self.name = name\n",
    "        self.age = age\n",
    "        self.friends = friends\n",
    "        \n",
    "    def print_age(self):\n",
    "        print(self.age)"
   ]
  },
  {
   "cell_type": "code",
   "execution_count": null,
   "metadata": {},
   "outputs": [],
   "source": [
    "person = Person(\"Alice\", 23, [\"Bob\", \"Peter\"])\n",
    "person.print_age()"
   ]
  },
  {
   "cell_type": "markdown",
   "metadata": {},
   "source": [
    "A really useful thing we can do with methods is to update the underlying data. We can update the person whenever it's their birthday!"
   ]
  },
  {
   "cell_type": "code",
   "execution_count": null,
   "metadata": {},
   "outputs": [],
   "source": [
    "class Person:\n",
    "    def __init__(self, name: str, age: int, friends: List[str]):\n",
    "        self.name = name\n",
    "        self.age = age\n",
    "        self.friends = friends\n",
    "        \n",
    "    def print_age(self) -> None:\n",
    "        print(self.age)\n",
    "    \n",
    "    def update_age(self, age: int) -> None:\n",
    "        self.age = age\n",
    "        "
   ]
  },
  {
   "cell_type": "code",
   "execution_count": null,
   "metadata": {},
   "outputs": [],
   "source": [
    "person = Person(\"Alice\", 23, [\"Bob\", \"Peter\"])\n",
    "person.print_age()\n",
    "person.update_age(24)\n",
    "person.print_age()"
   ]
  },
  {
   "cell_type": "markdown",
   "metadata": {},
   "source": [
    "This is realy power of object orientated program. We can encapsulate concepts together. We have the state of an object and then how to update the state with methods."
   ]
  },
  {
   "cell_type": "markdown",
   "metadata": {},
   "source": [
    "### What is this self thing?"
   ]
  },
  {
   "cell_type": "markdown",
   "metadata": {},
   "source": [
    "When we add a method to the class we need that method to have access to the objects properties at run time. We do this by passing the variable self as a function parameter. This happens by default so you can technically call it what you want:"
   ]
  },
  {
   "cell_type": "code",
   "execution_count": null,
   "metadata": {},
   "outputs": [],
   "source": [
    "class Example:\n",
    "    def __init__(apple, attribute: str) -> None:\n",
    "        apple.attribute = attribute\n",
    "    \n",
    "    def change_attribute(banana, new_attribute) -> None:\n",
    "        banana.attribute = new_attribute"
   ]
  },
  {
   "cell_type": "code",
   "execution_count": null,
   "metadata": {},
   "outputs": [],
   "source": [
    "test = Example(\"Hello\")\n",
    "print(test.attribute)"
   ]
  },
  {
   "cell_type": "code",
   "execution_count": null,
   "metadata": {},
   "outputs": [],
   "source": [
    "test.change_attribute(\"Goodbye\")\n",
    "print(test.attribute)"
   ]
  },
  {
   "cell_type": "markdown",
   "metadata": {},
   "source": [
    "However it is convention to for this argument to be called self and you should stick to it!"
   ]
  },
  {
   "cell_type": "markdown",
   "metadata": {},
   "source": [
    "### Example: Wizard Duel"
   ]
  },
  {
   "cell_type": "markdown",
   "metadata": {},
   "source": [
    "Here's an example of how we would like to use both concepts of encapsulating the state of an object and having methods to act on that state. Here is a basic simulation of a Wizard duel.\n",
    "\n",
    "A wizard has both hit points and magic points. If the Wizard runs out of hit points they are defeated, if they run out of magic points they die of exhaustion. These are tracked with the hit_points, magic_points and is_alive properties.\n",
    "\n",
    "A wizard can spend magic points to cast a fireball at another wizard dealing damage, or convert some magic points into health points. These are represented by the methods."
   ]
  },
  {
   "cell_type": "code",
   "execution_count": null,
   "metadata": {},
   "outputs": [],
   "source": [
    "from random import randint\n",
    "\n",
    "class Wizard:\n",
    "    def __init__(self, name: str, hit_points: int, magic_points: int):\n",
    "        self.name = name\n",
    "        self.hit_points = hit_points\n",
    "        self.magic_points = magic_points\n",
    "        self.is_alive = True\n",
    "    \n",
    "    def take_damage(self, damage: int) -> None:\n",
    "        self.hit_points -= damage\n",
    "        if self.hit_points <= 0:\n",
    "            self.is_alive = False\n",
    "    \n",
    "    def spend_magic_points(self, cost: int) -> None:\n",
    "        self.magic_points -= cost\n",
    "        if self.magic_points <= 0:\n",
    "            self.is_alive = False\n",
    "    \n",
    "    def cast_fireball(self, enemy: \"Wizard\") -> int:\n",
    "        if self.is_alive:\n",
    "            self.spend_magic_points(10)\n",
    "            damage = randint(1,10)\n",
    "            enemy.take_damage(damage) \n",
    "            return damage\n",
    "\n",
    "        \n",
    "    def cast_healing_spell(self) -> int:\n",
    "        if self.is_alive:\n",
    "            healing_points = randint(1,5)\n",
    "            self.spend_magic_points(healing_points)            \n",
    "            self.hit_points += healing_points\n",
    "            return healing_points\n",
    "\n",
    "        \n",
    "            \n",
    "        "
   ]
  },
  {
   "cell_type": "code",
   "execution_count": null,
   "metadata": {},
   "outputs": [],
   "source": [
    "# Create the Wizards\n",
    "gandalf = Wizard(\"Gandalf\", 20, 80)\n",
    "dumbledore = Wizard(\"Dumbledore\", 20, 80)\n",
    "\n",
    "# Do battle\n",
    "while gandalf.is_alive and dumbledore.is_alive:\n",
    "    if randint(0,10) > 5:\n",
    "        damage = gandalf.cast_fireball(dumbledore)\n",
    "        print(f\"Gandalf casts fireball and hits for {damage} points!\")\n",
    "    else:\n",
    "        healing_points = gandalf.cast_healing_spell()\n",
    "        print(f\"Gandalf heals for {healing_points} points!\")\n",
    "    if randint(0,10) > 5:\n",
    "        damage = dumbledore.cast_fireball(gandalf)\n",
    "        print(f\"Dumbledore casts fireball and hits for {damage} points!\")\n",
    "    else:\n",
    "        healing_points = dumbledore.cast_healing_spell()\n",
    "        print(f\"Dumbledore heals for {healing_points} points!\")\n",
    "    print(f\"Gandalf has {gandalf.hit_points} hit points and {gandalf.magic_points} magic points, Dumbledore has {dumbledore.hit_points} hit points and {dumbledore.magic_points} magic points\")\n",
    "    print(\"-----------------\")\n",
    "            \n",
    "if gandalf.is_alive:\n",
    "    print(\"Gandalf wins!\")\n",
    "else:\n",
    "    print(\"Dumbledore wins!\")"
   ]
  },
  {
   "cell_type": "markdown",
   "metadata": {},
   "source": [
    "### Default arguments to the constructor and pitfalls"
   ]
  },
  {
   "cell_type": "markdown",
   "metadata": {},
   "source": [
    "We can provide default arugments to the __init__ method to save time when constructing objects"
   ]
  },
  {
   "cell_type": "code",
   "execution_count": null,
   "metadata": {},
   "outputs": [],
   "source": [
    "class FamilyMember:\n",
    "    def __init__(self, first_name: str, surname: str = \"Brown\"):\n",
    "        self.first_name = first_name\n",
    "        self.surname = surname"
   ]
  },
  {
   "cell_type": "code",
   "execution_count": null,
   "metadata": {},
   "outputs": [],
   "source": [
    "peter = FamilyMember(\"Peter\")\n",
    "print(peter.surname)\n",
    "sarah = FamilyMember(\"Sarah\", \"Wiles\")\n",
    "print(sarah.surname)\n",
    "sam = FamilyMember(\"Sam\")\n",
    "print(sam.surname)"
   ]
  },
  {
   "cell_type": "markdown",
   "metadata": {},
   "source": [
    "This gets weird when we use mutable data types as a default arguement"
   ]
  },
  {
   "cell_type": "code",
   "execution_count": null,
   "metadata": {},
   "outputs": [],
   "source": [
    "class Person:\n",
    "    def __init__(self, name: str, age: int, friends: List[str] = []):\n",
    "        self.name = name\n",
    "        self.age = age\n",
    "        self.friends = friends\n",
    "    \n",
    "    def add_friend(self, name: str) -> None:\n",
    "        self.friends.append(name)"
   ]
  },
  {
   "cell_type": "code",
   "execution_count": null,
   "metadata": {},
   "outputs": [],
   "source": [
    "peter = Person(\"Peter\", 23)\n",
    "peter.add_friend(\"Sam\")\n",
    "print(peter.friends)"
   ]
  },
  {
   "cell_type": "code",
   "execution_count": null,
   "metadata": {},
   "outputs": [],
   "source": [
    "sam = Person(\"Sam\", 27)\n",
    "print(sam.friends)"
   ]
  },
  {
   "cell_type": "markdown",
   "metadata": {},
   "source": [
    "Not what we where expecting!\n",
    "This is because Python uses the same list instance (ie pointing to same spot in memory) for all objects created from the class. As an object mutated that list it is reflected across all future objects created from the class."
   ]
  },
  {
   "cell_type": "markdown",
   "metadata": {},
   "source": [
    "We can check this with the is operator"
   ]
  },
  {
   "cell_type": "code",
   "execution_count": null,
   "metadata": {},
   "outputs": [],
   "source": [
    "peter.friends is sam.friends"
   ]
  },
  {
   "cell_type": "code",
   "execution_count": null,
   "metadata": {},
   "outputs": [],
   "source": [
    "x = [12]\n",
    "y = [12]\n",
    "x is y"
   ]
  },
  {
   "cell_type": "markdown",
   "metadata": {},
   "source": [
    "For this reason it is highly recommended that you don't do this!"
   ]
  },
  {
   "cell_type": "code",
   "execution_count": null,
   "metadata": {},
   "outputs": [],
   "source": []
  }
 ],
 "metadata": {
  "kernelspec": {
   "display_name": "Python [conda env:Python3] *",
   "language": "python",
   "name": "conda-env-Python3-py"
  },
  "language_info": {
   "codemirror_mode": {
    "name": "ipython",
    "version": 3
   },
   "file_extension": ".py",
   "mimetype": "text/x-python",
   "name": "python",
   "nbconvert_exporter": "python",
   "pygments_lexer": "ipython3",
   "version": "3.8.2"
  }
 },
 "nbformat": 4,
 "nbformat_minor": 2
}
