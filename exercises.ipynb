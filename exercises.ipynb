{
 "cells": [
  {
   "cell_type": "markdown",
   "metadata": {},
   "source": [
    "`exercises.ipynb` [5-Oct-2021] is provided to NHS England under licence from Faculty Science Ltd."
   ]
  },
  {
   "cell_type": "markdown",
   "metadata": {},
   "source": [
    "# Data and Functions"
   ]
  },
  {
   "cell_type": "markdown",
   "metadata": {},
   "source": [
    "Design a dictonary structure to represent a house. Some things to consider:\n",
    "- House number\n",
    "- Building type\n",
    "- Age\n",
    "- How many rooms\n",
    "- History of ownership"
   ]
  },
  {
   "cell_type": "code",
   "execution_count": null,
   "metadata": {},
   "outputs": [],
   "source": [
    "house = {\n",
    "}"
   ]
  },
  {
   "cell_type": "markdown",
   "metadata": {},
   "source": [
    "The below loads a load of data that represents bank holidays in the UK. Write a combination of cohesive functions that works out what proportion of days have \"bunting\""
   ]
  },
  {
   "cell_type": "code",
   "execution_count": null,
   "metadata": {},
   "outputs": [],
   "source": [
    "import json\n",
    "with open(\"/project/bank_hoildays.json\", \"r\") as f:\n",
    "    loaded_data = json.load(f)    "
   ]
  },
  {
   "cell_type": "markdown",
   "metadata": {},
   "source": [
    "Implement the function. Make sure you write other functions to split this up!"
   ]
  },
  {
   "cell_type": "code",
   "execution_count": null,
   "metadata": {},
   "outputs": [],
   "source": [
    "from typing import Dict, List, Union"
   ]
  },
  {
   "cell_type": "code",
   "execution_count": null,
   "metadata": {},
   "outputs": [],
   "source": [
    "def compute_bunting_proportion(data: dict) -> float:\n",
    "    pass"
   ]
  },
  {
   "cell_type": "code",
   "execution_count": null,
   "metadata": {},
   "outputs": [],
   "source": [
    "compute_bunting_proportion(loaded_data)"
   ]
  },
  {
   "cell_type": "markdown",
   "metadata": {},
   "source": [
    "# Basic Classes"
   ]
  },
  {
   "cell_type": "markdown",
   "metadata": {},
   "source": [
    "Lets continue to work with the bank holiday data. It is quite common to recieve data as dictionaries when communicating with other computers (APIs). The data is typically stored in a JSON format (https://www.w3schools.com/js/js_json_intro.asp). Python has a library to convert it to dictionaries. We want to create our own class that models an event and eventually load all of our data into custom python objects: "
   ]
  },
  {
   "cell_type": "markdown",
   "metadata": {},
   "source": [
    "Here is an example of an event from the data. \n",
    "From studying it, write a class to represent the data"
   ]
  },
  {
   "cell_type": "code",
   "execution_count": null,
   "metadata": {},
   "outputs": [],
   "source": [
    "event = {\n",
    "    'title': 'Spring bank holiday',\n",
    "    'date': '2016-05-30',\n",
    "    'notes': '',\n",
    "    'bunting': True\n",
    "}"
   ]
  },
  {
   "cell_type": "code",
   "execution_count": null,
   "metadata": {},
   "outputs": [],
   "source": [
    "class Event:\n",
    "    pass"
   ]
  },
  {
   "cell_type": "markdown",
   "metadata": {},
   "source": [
    "Now write a function that takes in an event dictionary and returns and event object. This is known as parsing."
   ]
  },
  {
   "cell_type": "code",
   "execution_count": null,
   "metadata": {},
   "outputs": [],
   "source": [
    "def parse_datum(event_datum: Dict[str, Union[str, bool]]) -> Event:\n",
    "    pass"
   ]
  },
  {
   "cell_type": "code",
   "execution_count": null,
   "metadata": {},
   "outputs": [],
   "source": [
    "parsed_event = parse_datum(event)\n",
    "print(type(parsed_event))\n",
    "print(parsed_event.__dict__)"
   ]
  },
  {
   "cell_type": "markdown",
   "metadata": {},
   "source": [
    "Now lets write a function that can loop through the original raw data and return a list of Events"
   ]
  },
  {
   "cell_type": "code",
   "execution_count": null,
   "metadata": {},
   "outputs": [],
   "source": [
    "def parse_data(event_data: dict) -> List[Event]:\n",
    "    pass"
   ]
  },
  {
   "cell_type": "code",
   "execution_count": null,
   "metadata": {},
   "outputs": [],
   "source": [
    "parse_data(loaded_data)"
   ]
  },
  {
   "cell_type": "markdown",
   "metadata": {},
   "source": [
    "Let's add some methods to the class. Rewrite the event class adding a method that can update the events notes attribute"
   ]
  },
  {
   "cell_type": "code",
   "execution_count": null,
   "metadata": {},
   "outputs": [],
   "source": [
    "class Event:\n",
    "    \n",
    "    def update_notes():\n",
    "        pass"
   ]
  },
  {
   "cell_type": "code",
   "execution_count": null,
   "metadata": {},
   "outputs": [],
   "source": [
    "parsed_event = parse_datum(event)\n",
    "parsed_event.update_notes(\"Updated Note!\")\n",
    "print(parsed_event.__dict__)"
   ]
  },
  {
   "cell_type": "markdown",
   "metadata": {},
   "source": [
    "Now rerun your event parser on the whole data set again and then write a function to update the notes of all events that have bunting with the note \"Has bunting\""
   ]
  },
  {
   "cell_type": "code",
   "execution_count": null,
   "metadata": {},
   "outputs": [],
   "source": [
    "def update_notes(events:List[Event]) -> None:\n",
    "    for event in events:\n",
    "        if event.bunting:\n",
    "            event.update_notes(\"Has Bunting!\")\n",
    "events = parse_data(loaded_data)\n",
    "update_notes(events)\n",
    "print(events[0].notes)"
   ]
  },
  {
   "cell_type": "markdown",
   "metadata": {},
   "source": [
    "# Intermediate Classes"
   ]
  },
  {
   "cell_type": "markdown",
   "metadata": {},
   "source": [
    "## Magic Methods"
   ]
  },
  {
   "cell_type": "markdown",
   "metadata": {},
   "source": [
    "So far its been a pain to view events. So lets add a repr method to print them out more easily:"
   ]
  },
  {
   "cell_type": "code",
   "execution_count": null,
   "metadata": {},
   "outputs": [],
   "source": [
    "event= {'title': 'Spring bank holiday',\n",
    " 'date': '2016-05-30',\n",
    " 'notes': '',\n",
    " 'bunting': True}\n",
    "event_2 = {'title': 'Spring bank holiday',\n",
    " 'date': '2017-05-30',\n",
    " 'notes': '',\n",
    " 'bunting': True}\n",
    "parsed_event = parse_datum(event) # Remember that you implemented this function earlier!\n",
    "parsed_event_2 = parse_datum(event_2)"
   ]
  },
  {
   "cell_type": "code",
   "execution_count": null,
   "metadata": {},
   "outputs": [],
   "source": [
    "class Event:\n",
    "    pass "
   ]
  },
  {
   "cell_type": "code",
   "execution_count": null,
   "metadata": {},
   "outputs": [],
   "source": [
    "print(parsed_event)"
   ]
  },
  {
   "cell_type": "markdown",
   "metadata": {},
   "source": [
    "We want to say two events are equal if they have the same title. Add an eq method to implement this"
   ]
  },
  {
   "cell_type": "code",
   "execution_count": null,
   "metadata": {},
   "outputs": [],
   "source": [
    "class Event:\n",
    "    pass"
   ]
  },
  {
   "cell_type": "code",
   "execution_count": null,
   "metadata": {},
   "outputs": [],
   "source": [
    "event= {'title': 'Spring bank holiday',\n",
    " 'date': '2016-05-30',\n",
    " 'notes': '',\n",
    " 'bunting': True}\n",
    "event_2 = {'title': 'Spring bank holiday',\n",
    " 'date': '2017-05-30',\n",
    " 'notes': '',\n",
    " 'bunting': True}\n",
    "parsed_event = parse_datum(event) # Remember that you implemented this function earlier!\n",
    "parsed_event_2 = parse_datum(event_2)\n",
    "parsed_event == parsed_event_2"
   ]
  },
  {
   "cell_type": "markdown",
   "metadata": {},
   "source": [
    "and finally lets add an ordering! Implement one of the ge or le methods to order events by their dates (hint use Pythons built in datetime library!)"
   ]
  },
  {
   "cell_type": "code",
   "execution_count": null,
   "metadata": {},
   "outputs": [],
   "source": [
    "from datetime import datetime\n",
    "class Event:\n",
    "    pass"
   ]
  },
  {
   "cell_type": "code",
   "execution_count": null,
   "metadata": {},
   "outputs": [],
   "source": [
    "event= {'title': 'Spring bank holiday',\n",
    " 'date': '2016-05-30',\n",
    " 'notes': '',\n",
    " 'bunting': True}\n",
    "event_2 = {'title': 'Spring bank holiday',\n",
    " 'date': '2017-05-30',\n",
    " 'notes': '',\n",
    " 'bunting': True}\n",
    "parsed_event = parse_datum(event) # Remember that you implemented this function earlier!\n",
    "parsed_event_2 = parse_datum(event_2)\n",
    "parsed_event > parsed_event_2"
   ]
  },
  {
   "cell_type": "markdown",
   "metadata": {},
   "source": [
    "Now lets sort all the events by their dates!"
   ]
  },
  {
   "cell_type": "code",
   "execution_count": null,
   "metadata": {},
   "outputs": [],
   "source": [
    "events = parse_data(loaded_data)\n",
    "events = sorted(events)"
   ]
  },
  {
   "cell_type": "code",
   "execution_count": null,
   "metadata": {},
   "outputs": [],
   "source": [
    "display(events)"
   ]
  },
  {
   "cell_type": "markdown",
   "metadata": {},
   "source": [
    "Pretty neat!"
   ]
  },
  {
   "cell_type": "markdown",
   "metadata": {},
   "source": [
    "## Class and static methods"
   ]
  },
  {
   "cell_type": "markdown",
   "metadata": {},
   "source": [
    "Sometimes event data comes in  a different format. Perhaps the client provides a CSV instead of JSON. Lets write class and static methods to handle constructing events from a different data type!"
   ]
  },
  {
   "cell_type": "code",
   "execution_count": null,
   "metadata": {},
   "outputs": [],
   "source": [
    "with open(\"/project/bank_holidays.csv\", \"r\") as f:\n",
    "    csv_data = f.read()"
   ]
  },
  {
   "cell_type": "code",
   "execution_count": null,
   "metadata": {},
   "outputs": [],
   "source": [
    "display(csv_data)"
   ]
  },
  {
   "cell_type": "code",
   "execution_count": null,
   "metadata": {},
   "outputs": [],
   "source": [
    "from datetime import datetime\n",
    "class Event:\n",
    "    pass            "
   ]
  },
  {
   "cell_type": "code",
   "execution_count": null,
   "metadata": {},
   "outputs": [],
   "source": [
    "list_of_events = Event.list_of_events_from_csv(csv_data)\n",
    "display(list_of_events)"
   ]
  },
  {
   "cell_type": "markdown",
   "metadata": {},
   "source": [
    "## Inheritence"
   ]
  },
  {
   "cell_type": "markdown",
   "metadata": {},
   "source": [
    "Lets say we now want to implement a method called celebrate. When celebrate is called if the event has bunting we want to print out \"Put up the bunting!\" and if not the sober nature of the event means we want to print out \"2 minute silence\". We could create the following:"
   ]
  },
  {
   "cell_type": "code",
   "execution_count": null,
   "metadata": {},
   "outputs": [],
   "source": [
    "class Event:\n",
    "    def __init__(self, title, date, notes, bunting):\n",
    "        self.title = title\n",
    "        self.date = date\n",
    "        self.notes = notes\n",
    "        self.bunting = bunting\n",
    "    \n",
    "    def celebrate():\n",
    "        if self.bunting:\n",
    "            print(\"Put up the bunting!\")\n",
    "        else:\n",
    "            print(\"2 minute silence\")"
   ]
  },
  {
   "cell_type": "markdown",
   "metadata": {},
   "source": [
    "But if we want to change the message we have to change the class definition for all events. Not ideal. We can actually encode the concept of bunting by using inheritence and have two type of objects. Complete the following implementations:"
   ]
  },
  {
   "cell_type": "code",
   "execution_count": null,
   "metadata": {},
   "outputs": [],
   "source": [
    "class Event:\n",
    "    def __init__(self, title, date, notes):\n",
    "        self.title = title\n",
    "        self.date = date\n",
    "        self.notes = notes\n",
    "\n",
    "class BuntingEvent(Event):\n",
    "    @staticmethod\n",
    "    def celebrate():\n",
    "        pass\n",
    "\n",
    "class NonBuntingEvent(Event):\n",
    "    @staticmethod\n",
    "    def celebrate():\n",
    "        pass"
   ]
  },
  {
   "cell_type": "markdown",
   "metadata": {},
   "source": [
    "Rewrite the parsing methods to create a list which is a mixture of BuntingEvent and NonBuntingEvent:"
   ]
  },
  {
   "cell_type": "code",
   "execution_count": null,
   "metadata": {},
   "outputs": [],
   "source": [
    "def parse_datum_2(event_datum: Dict[str, Union[str, bool]]) -> Event:\n",
    "    pass\n",
    "\n",
    "\n",
    "def parse_data_2(event_data: dict) -> List[Event]:\n",
    "    pass"
   ]
  },
  {
   "cell_type": "markdown",
   "metadata": {},
   "source": [
    "Now lets call celebrate on all the parsed events!"
   ]
  },
  {
   "cell_type": "code",
   "execution_count": null,
   "metadata": {},
   "outputs": [],
   "source": [
    "parsed_events = parse_data_2(loaded_data)\n",
    "for event in parsed_events:\n",
    "    event.celebrate()"
   ]
  },
  {
   "cell_type": "markdown",
   "metadata": {},
   "source": [
    "# Advanced Classes"
   ]
  },
  {
   "cell_type": "markdown",
   "metadata": {},
   "source": [
    "## Data classes"
   ]
  },
  {
   "cell_type": "markdown",
   "metadata": {},
   "source": [
    "Lets try implementing the Event class as a data class"
   ]
  },
  {
   "cell_type": "code",
   "execution_count": null,
   "metadata": {},
   "outputs": [],
   "source": [
    "from dataclasses import dataclass\n",
    "  "
   ]
  },
  {
   "cell_type": "code",
   "execution_count": null,
   "metadata": {},
   "outputs": [],
   "source": [
    "event= {'title': 'Spring bank holiday',\n",
    " 'date': '2016-05-30',\n",
    " 'notes': '',\n",
    " 'bunting': True}\n",
    "event_2 = {'title': 'Spring bank holiday',\n",
    " 'date': '2017-05-30',\n",
    " 'notes': '',\n",
    " 'bunting': True}\n",
    "parsed_event = parse_datum(event) # Remember that you implemented this function earlier!\n",
    "parsed_event_2 = parse_datum(event_2)"
   ]
  },
  {
   "cell_type": "code",
   "execution_count": null,
   "metadata": {},
   "outputs": [],
   "source": [
    "parsed_event"
   ]
  },
  {
   "cell_type": "code",
   "execution_count": null,
   "metadata": {},
   "outputs": [],
   "source": [
    "parsed_event == parsed_event_2"
   ]
  },
  {
   "cell_type": "code",
   "execution_count": null,
   "metadata": {},
   "outputs": [],
   "source": [
    "parsed_event > parsed_event_2"
   ]
  },
  {
   "cell_type": "markdown",
   "metadata": {},
   "source": [
    "Quite a lot less code for similar functionality!"
   ]
  }
 ],
 "metadata": {
  "kernelspec": {
   "display_name": "Python [conda env:Python3] *",
   "language": "python",
   "name": "conda-env-Python3-py"
  },
  "language_info": {
   "codemirror_mode": {
    "name": "ipython",
    "version": 3
   },
   "file_extension": ".py",
   "mimetype": "text/x-python",
   "name": "python",
   "nbconvert_exporter": "python",
   "pygments_lexer": "ipython3",
   "version": "3.8.2"
  }
 },
 "nbformat": 4,
 "nbformat_minor": 2
}
