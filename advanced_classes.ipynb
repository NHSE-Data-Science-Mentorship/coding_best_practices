{
 "cells": [
  {
   "cell_type": "markdown",
   "metadata": {},
   "source": [
    "`advanced_classes.ipynb` [5-Oct-2021] is provided to NHS England under licence from Faculty Science Ltd."
   ]
  },
  {
   "cell_type": "markdown",
   "metadata": {},
   "source": [
    "# Dataclasses"
   ]
  },
  {
   "cell_type": "markdown",
   "metadata": {},
   "source": [
    "One thing that python introduced in version 3.7 was the concept of a data class. These are best used for classes that are really more around storing data rather than having lots of complex logic. The great thing they do is remove the need to write a load of boiler plate code"
   ]
  },
  {
   "cell_type": "markdown",
   "metadata": {},
   "source": [
    "First we need to import the dataclasses library"
   ]
  },
  {
   "cell_type": "code",
   "execution_count": null,
   "metadata": {},
   "outputs": [],
   "source": [
    "from dataclasses import dataclass \n",
    "from typing import List"
   ]
  },
  {
   "cell_type": "markdown",
   "metadata": {},
   "source": [
    "A dataclass can be defined as follows. Note it is required to use type hints for the implementation"
   ]
  },
  {
   "cell_type": "code",
   "execution_count": null,
   "metadata": {},
   "outputs": [],
   "source": [
    "@dataclass\n",
    "class Person:\n",
    "    name: str\n",
    "    age: int\n",
    "    friends: List[str]"
   ]
  },
  {
   "cell_type": "markdown",
   "metadata": {},
   "source": [
    "What we get for \"free\""
   ]
  },
  {
   "cell_type": "markdown",
   "metadata": {},
   "source": [
    "### Initialisation:"
   ]
  },
  {
   "cell_type": "code",
   "execution_count": null,
   "metadata": {},
   "outputs": [],
   "source": [
    "person_1 = Person(\"Alice\", 23, [\"Bob\", \"Peter\"])\n",
    "person_2 = Person(\"Alice\", 23, [\"Bob\", \"Peter\"])\n",
    "person_3 = Person(\"Sam\", 23, [\"Bob\", \"Peter\"])"
   ]
  },
  {
   "cell_type": "markdown",
   "metadata": {},
   "source": [
    "### Representation:"
   ]
  },
  {
   "cell_type": "code",
   "execution_count": null,
   "metadata": {},
   "outputs": [],
   "source": [
    "print(person_1)"
   ]
  },
  {
   "cell_type": "markdown",
   "metadata": {},
   "source": [
    "### Comparision: "
   ]
  },
  {
   "cell_type": "code",
   "execution_count": null,
   "metadata": {},
   "outputs": [],
   "source": [
    "print(person_1==person_2)\n",
    "print(person_1==person_3)"
   ]
  },
  {
   "cell_type": "markdown",
   "metadata": {},
   "source": [
    "We can easily add a couple of extra features we might want:"
   ]
  },
  {
   "cell_type": "markdown",
   "metadata": {},
   "source": [
    "### Ordering:"
   ]
  },
  {
   "cell_type": "code",
   "execution_count": null,
   "metadata": {},
   "outputs": [],
   "source": [
    "@dataclass(order=True)\n",
    "class Person:\n",
    "    name: str\n",
    "    age: int\n",
    "    friends: List[str]"
   ]
  },
  {
   "cell_type": "code",
   "execution_count": null,
   "metadata": {},
   "outputs": [],
   "source": [
    "person_1 = Person(\"Alice\", 23, [\"Bob\", \"Peter\"])\n",
    "person_2 = Person(\"Alice\", 23, [\"Bob\", \"Peter\"])\n",
    "person_3 = Person(\"Sam\", 21, [\"Bob\", \"Peter\"])"
   ]
  },
  {
   "cell_type": "code",
   "execution_count": null,
   "metadata": {},
   "outputs": [],
   "source": [
    "print(person_1 < person_3)"
   ]
  },
  {
   "cell_type": "markdown",
   "metadata": {},
   "source": [
    "This can be somewhat confusing. Basically the comparison is done field be field looking at the ordering on the underlying datatype. As S is greater than A we can understand this result."
   ]
  },
  {
   "cell_type": "markdown",
   "metadata": {},
   "source": [
    "### Frozen:"
   ]
  },
  {
   "cell_type": "code",
   "execution_count": null,
   "metadata": {},
   "outputs": [],
   "source": [
    "@dataclass(frozen=True)\n",
    "class Person:\n",
    "    name: str\n",
    "    age: int\n",
    "    friends: List[str]"
   ]
  },
  {
   "cell_type": "markdown",
   "metadata": {},
   "source": [
    "The frozen attribute makes the dataclass immutatible. This is useful for keeping data consistent in an application."
   ]
  },
  {
   "cell_type": "code",
   "execution_count": null,
   "metadata": {},
   "outputs": [],
   "source": [
    "person_1 = Person(\"Alice\", 23, [\"Bob\", \"Peter\"])\n",
    "person_1.name = \"Betty\""
   ]
  },
  {
   "cell_type": "markdown",
   "metadata": {},
   "source": [
    "## Default fields"
   ]
  },
  {
   "cell_type": "markdown",
   "metadata": {},
   "source": [
    "We can set default values in data classes similarly to how we did for classes"
   ]
  },
  {
   "cell_type": "code",
   "execution_count": null,
   "metadata": {},
   "outputs": [],
   "source": [
    "from dataclasses import field\n",
    "\n",
    "@dataclass\n",
    "class Person:\n",
    "    name: str = \"name\"\n",
    "    age: int = 18\n",
    "    friends: List[str] = field(default_factory=list)"
   ]
  },
  {
   "cell_type": "markdown",
   "metadata": {},
   "source": [
    "Note that for mutable datatypes we have to use the field function from the dataclass library. This stops the problem we saw before of all objects sharing the same list"
   ]
  },
  {
   "cell_type": "code",
   "execution_count": null,
   "metadata": {},
   "outputs": [],
   "source": [
    "dummy_person = Person()\n",
    "print(dummy_person)"
   ]
  },
  {
   "cell_type": "markdown",
   "metadata": {},
   "source": [
    "## Adding Methods"
   ]
  },
  {
   "cell_type": "markdown",
   "metadata": {},
   "source": [
    "Works the same way as before"
   ]
  },
  {
   "cell_type": "code",
   "execution_count": null,
   "metadata": {},
   "outputs": [],
   "source": [
    "@dataclass\n",
    "class Person:\n",
    "    name: str = \"name\"\n",
    "    age: int = 18\n",
    "    friends: List[str] = field(default_factory=list)\n",
    "    \n",
    "    def print_name(self):\n",
    "        print(self.name)"
   ]
  },
  {
   "cell_type": "code",
   "execution_count": null,
   "metadata": {},
   "outputs": [],
   "source": [
    "dummy_person = Person()\n",
    "dummy_person.print_name()"
   ]
  },
  {
   "cell_type": "markdown",
   "metadata": {},
   "source": [
    "## Design idea"
   ]
  },
  {
   "cell_type": "markdown",
   "metadata": {},
   "source": [
    "A good idea for designing your code is to write immutable data classes and functions that act on them. This way functions are \"pure\" and only act on the data and do not have \"side effects\" making them much easier to test and reason about. "
   ]
  },
  {
   "cell_type": "code",
   "execution_count": null,
   "metadata": {},
   "outputs": [],
   "source": [
    "def add_friends(person: Person, new_friends: List[str]) -> Person:\n",
    "    all_friends = person.friends + new_friends\n",
    "    return Person(person.name, person.age, all_friends)"
   ]
  },
  {
   "cell_type": "code",
   "execution_count": null,
   "metadata": {},
   "outputs": [],
   "source": [
    "dummy_person = Person()\n",
    "print(dummy_person)\n",
    "new_person = add_friends(dummy_person, [\"Bob\"])\n",
    "print(new_person)"
   ]
  },
  {
   "cell_type": "markdown",
   "metadata": {},
   "source": [
    "This is a more functional approach to programming, the idea is to encode the logic in \"pure\" functions rather than classes. Because of this it is often easier to scale the code to distributed systems.  "
   ]
  },
  {
   "cell_type": "markdown",
   "metadata": {},
   "source": [
    "# Abstract Classes"
   ]
  },
  {
   "cell_type": "markdown",
   "metadata": {},
   "source": [
    "The idea behind abstract classes is to provide an interface for other developers to be able to extend the code but leave core functionality alone."
   ]
  },
  {
   "cell_type": "code",
   "execution_count": null,
   "metadata": {},
   "outputs": [],
   "source": [
    "class MeanDataProcessor:\n",
    "    \n",
    "    def __init__(self, data: List[float]):\n",
    "        self.data = data\n",
    "    \n",
    "    def compute(self):\n",
    "        return sum(self.data)/len(self.data)\n"
   ]
  },
  {
   "cell_type": "code",
   "execution_count": null,
   "metadata": {},
   "outputs": [],
   "source": [
    "def display_statistics(data_processor: MeanDataProcessor):\n",
    "    processed_data = data_processor.compute()\n",
    "    print(processed_data)"
   ]
  },
  {
   "cell_type": "code",
   "execution_count": null,
   "metadata": {},
   "outputs": [],
   "source": [
    "def main():\n",
    "    data = [1,2,3,4]\n",
    "    data_processor = MeanDataProcessor(data)\n",
    "    display_statistics(data_processor)\n",
    "\n",
    "main()"
   ]
  },
  {
   "cell_type": "markdown",
   "metadata": {},
   "source": [
    "Now the display_statistics function doesn't need to know anything about the MeanDataProcessor's implmenetation, it only needs to know that it has a method called compute. We can generalise this function to work on basically any DataProcessor style of class provided it has a compute method. We can now rewrite display_statistics to take in a generic DataProcessor class that promises to always have this method. That way we can extend this function without ever needing to rewrite it. To do this we use Abstract Classes"
   ]
  },
  {
   "cell_type": "code",
   "execution_count": null,
   "metadata": {},
   "outputs": [],
   "source": [
    "from abc import ABC, abstractmethod\n",
    "\n",
    "class DataProcessor(ABC):\n",
    "    \n",
    "    def __init__(self, data: List[float]):\n",
    "        self.data = data\n",
    "    \n",
    "    @abstractmethod\n",
    "    def compute(self):\n",
    "        pass"
   ]
  },
  {
   "cell_type": "markdown",
   "metadata": {},
   "source": [
    "We need to import two objects from the abc library. ABC which is the base class to inherit from and the decorator abstractmethod to mark methods we will promise to implement."
   ]
  },
  {
   "cell_type": "markdown",
   "metadata": {},
   "source": [
    "You can think of this class as a template or an interface. As such we can't actually create objects from it. Only inherit from it."
   ]
  },
  {
   "cell_type": "code",
   "execution_count": null,
   "metadata": {},
   "outputs": [],
   "source": [
    "data_processor = DataProcessor()"
   ]
  },
  {
   "cell_type": "markdown",
   "metadata": {},
   "source": [
    "Lets reimplement MeanDataProcessor:"
   ]
  },
  {
   "cell_type": "code",
   "execution_count": null,
   "metadata": {},
   "outputs": [],
   "source": [
    "class MeanDataProcessor(DataProcessor):\n",
    "    def compute(self):\n",
    "        return sum(self.data)/len(self.data)        "
   ]
  },
  {
   "cell_type": "code",
   "execution_count": null,
   "metadata": {},
   "outputs": [],
   "source": [
    "data = [1,2,3,4]\n",
    "data_processor = MeanDataProcessor(data)\n",
    "data_processor.compute()"
   ]
  },
  {
   "cell_type": "markdown",
   "metadata": {},
   "source": [
    "So this still works, we can now update the typing on display_statistics()"
   ]
  },
  {
   "cell_type": "code",
   "execution_count": null,
   "metadata": {},
   "outputs": [],
   "source": [
    "def display_statistics(data_processor: DataProcessor):\n",
    "    processed_data = data_processor.compute()\n",
    "    print(processed_data)"
   ]
  },
  {
   "cell_type": "code",
   "execution_count": null,
   "metadata": {},
   "outputs": [],
   "source": [
    "def main():\n",
    "    data = [1,2,3,4]\n",
    "    data_processor = MeanDataProcessor(data)\n",
    "    display_statistics(data_processor)\n",
    "\n",
    "main()"
   ]
  },
  {
   "cell_type": "markdown",
   "metadata": {},
   "source": [
    "We can now change the behaviour of this function without having to update this function as we know whatever object we pass to it will have a compute method!"
   ]
  },
  {
   "cell_type": "code",
   "execution_count": null,
   "metadata": {},
   "outputs": [],
   "source": [
    "class MaxDataProcessor(DataProcessor):\n",
    "    def compute(self):\n",
    "        return max(self.data)\n",
    "\n",
    "def main():\n",
    "    data = [1,2,3,4]\n",
    "    data_processor = MaxDataProcessor(data)\n",
    "    display_statistics(data_processor)\n",
    "\n",
    "main()"
   ]
  },
  {
   "cell_type": "markdown",
   "metadata": {},
   "source": [
    "The above example may seem a bit too minimal to actually be useful. Hopefully the next example will show why this is actually useful. "
   ]
  },
  {
   "cell_type": "markdown",
   "metadata": {},
   "source": [
    "## The strategy pattern"
   ]
  },
  {
   "cell_type": "markdown",
   "metadata": {},
   "source": [
    "This example was heavily inspired from https://www.youtube.com/channel/UCVhQ2NnY5Rskt6UjCUkJ_DA I recommend his channel if you want to learn more advanced software design patterns!"
   ]
  },
  {
   "cell_type": "markdown",
   "metadata": {},
   "source": [
    "In this example we'll set up a trading bot using abstract classes and the strategy pattern. A typical trading flow will look like:\n",
    "- Connect the the exchange\n",
    "- Fetch market data\n",
    "- Determine how to act of the market data\n",
    "- Close the connection the the exchange"
   ]
  },
  {
   "cell_type": "markdown",
   "metadata": {},
   "source": [
    "We can imagine that the only step we might want to alter is how to act on the market data."
   ]
  },
  {
   "cell_type": "markdown",
   "metadata": {},
   "source": [
    "First we set up a template of what a trading strategy should look like. Given market data should we buy or should we sell?"
   ]
  },
  {
   "cell_type": "code",
   "execution_count": null,
   "metadata": {},
   "outputs": [],
   "source": [
    "from abc import ABC, abstractmethod\n",
    "\n",
    "class TradingStrategy(ABC):\n",
    "    \n",
    "    @abstractmethod\n",
    "    def should_buy(self, prices: List[float]) -> bool:\n",
    "        pass\n",
    "    \n",
    "    @abstractmethod\n",
    "    def should_sell(self, prices: List[float]) -> bool:\n",
    "        pass\n",
    "    "
   ]
  },
  {
   "cell_type": "markdown",
   "metadata": {},
   "source": [
    "We also need an exchange object to interact with. Typically this would form an interface with the actual exchange but we'll just mock this out for the example"
   ]
  },
  {
   "cell_type": "code",
   "execution_count": null,
   "metadata": {},
   "outputs": [],
   "source": [
    "class ExchangeConnectionError(Exception):\n",
    "    \"\"\"Custom exception raise if we request prices but aren't connected to the exchange\"\"\"\n",
    "    pass\n",
    "\n",
    "class Exchange:\n",
    "    \"\"\"Simulates an exchange\"\"\"\n",
    "    def __init__(self) -> None:\n",
    "        self.connected = False\n",
    "        \n",
    "    def connect(self) -> None:\n",
    "        self.connected = True\n",
    "        print(\"Connection established\")\n",
    "    \n",
    "    def disconnect(self) -> None:\n",
    "        self.connected = False\n",
    "        print(\"Connection closed\")\n",
    "    \n",
    "    def check_connection(self):\n",
    "        if not self.connected:\n",
    "            raise ExchangeConnectionError()\n",
    "    \n",
    "    def get_market_data(self) -> List[float]:\n",
    "        self.check_connection()\n",
    "        return [3.4,3.5,3.2,3.6,3.1,3.4]\n",
    "    \n",
    "    def buy(self, amount: float) -> None:\n",
    "        self.check_connection()\n",
    "        print(f\"You bought {amount}.\")\n",
    "    \n",
    "    def sell(self, amount: float) -> None:\n",
    "        self.check_connection()\n",
    "        print(f\"You sold {amount}.\")\n",
    "    "
   ]
  },
  {
   "cell_type": "markdown",
   "metadata": {},
   "source": [
    "Now lets build out the bot:"
   ]
  },
  {
   "cell_type": "code",
   "execution_count": null,
   "metadata": {},
   "outputs": [],
   "source": [
    "class TradingBot:\n",
    "    \n",
    "    def __init__(self, exchange: Exchange, trading_strategy: TradingStrategy) -> None:\n",
    "        self.exchange = exchange\n",
    "        self.trading_strategy = trading_strategy\n",
    "              \n",
    "    def run(self) -> None:\n",
    "        prices = self.exchange.get_market_data()\n",
    "        should_buy = self.trading_strategy.should_buy(prices)\n",
    "        should_sell = self.trading_strategy.should_sell(prices)\n",
    "        if should_buy:\n",
    "            self.exchange.buy(10)\n",
    "        elif should_sell:\n",
    "            self.exchange.sell(10)\n",
    "        else:\n",
    "            print(\"Hold postion\")\n",
    "        "
   ]
  },
  {
   "cell_type": "markdown",
   "metadata": {},
   "source": [
    "Now lets build a trading strategy. Here's a strategy that doesn't really work in the real world but seems sensible. Compute the average of the market data and buy/sell if the last price is above or below it"
   ]
  },
  {
   "cell_type": "code",
   "execution_count": null,
   "metadata": {},
   "outputs": [],
   "source": [
    "class BetterThanAverage(TradingStrategy):\n",
    "    \n",
    "    @staticmethod\n",
    "    def _compute_average(prices: List[float]):\n",
    "        return sum(prices)/len(prices)\n",
    "    \n",
    "    def should_buy(self, prices: List[float]) -> bool:\n",
    "        return prices[-1] > self._compute_average(prices)\n",
    "    \n",
    "    def should_sell(self, prices: List[float]) -> bool:\n",
    "        return prices[-1] <= self._compute_average(prices)"
   ]
  },
  {
   "cell_type": "markdown",
   "metadata": {},
   "source": [
    "Now lets implement all this in a main function"
   ]
  },
  {
   "cell_type": "code",
   "execution_count": null,
   "metadata": {},
   "outputs": [],
   "source": [
    "def main() -> None:\n",
    "    exchange = Exchange()\n",
    "    exchange.connect()\n",
    "    \n",
    "    trading_strategy = BetterThanAverage()\n",
    "    \n",
    "    bot = TradingBot(exchange, trading_strategy)\n",
    "    bot.run()\n",
    "    \n",
    "    exchange.disconnect()\n",
    "\n",
    "main()"
   ]
  },
  {
   "cell_type": "markdown",
   "metadata": {},
   "source": [
    "Seems like a lot of work but now if we want to change the trading strategy we only have to write a new class and update main rather than worrying about checking all the code thats to do with the process of buying and selling on the exchange. This is good because we can heavily test that code and then never touch it again!"
   ]
  },
  {
   "cell_type": "markdown",
   "metadata": {},
   "source": [
    "Lets add a new trading strategy which is just buy when price is above a given value"
   ]
  },
  {
   "cell_type": "code",
   "execution_count": null,
   "metadata": {},
   "outputs": [],
   "source": [
    "from dataclasses import dataclass \n",
    "\n",
    "@dataclass\n",
    "class AboveAValue(TradingStrategy):\n",
    "    buy_value: float = 3.0\n",
    "    \n",
    "    def should_buy(self, prices: List[float]) -> bool:\n",
    "        return prices[-1] > self.buy_value\n",
    "    \n",
    "    def should_sell(self, prices: List[float]) -> bool:\n",
    "        return prices[-1] <= self.buy_value"
   ]
  },
  {
   "cell_type": "code",
   "execution_count": null,
   "metadata": {},
   "outputs": [],
   "source": [
    "def main() -> None:\n",
    "    exchange = Exchange()\n",
    "    exchange.connect()\n",
    "    \n",
    "    trading_strategy = AboveAValue(3.6)\n",
    "    \n",
    "    bot = TradingBot(exchange, trading_strategy)\n",
    "    bot.run()\n",
    "    \n",
    "    exchange.disconnect()\n",
    "\n",
    "main()"
   ]
  },
  {
   "cell_type": "markdown",
   "metadata": {},
   "source": [
    "Barely any work!"
   ]
  },
  {
   "cell_type": "code",
   "execution_count": null,
   "metadata": {},
   "outputs": [],
   "source": []
  }
 ],
 "metadata": {
  "kernelspec": {
   "display_name": "Python [conda env:Python3] *",
   "language": "python",
   "name": "conda-env-Python3-py"
  },
  "language_info": {
   "codemirror_mode": {
    "name": "ipython",
    "version": 3
   },
   "file_extension": ".py",
   "mimetype": "text/x-python",
   "name": "python",
   "nbconvert_exporter": "python",
   "pygments_lexer": "ipython3",
   "version": "3.8.2"
  }
 },
 "nbformat": 4,
 "nbformat_minor": 2
}
