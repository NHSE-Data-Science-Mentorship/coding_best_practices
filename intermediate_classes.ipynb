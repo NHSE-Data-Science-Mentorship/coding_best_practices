{
 "cells": [
  {
   "cell_type": "markdown",
   "metadata": {},
   "source": [
    "# Classes - Itermediate Concepts"
   ]
  },
  {
   "cell_type": "markdown",
   "metadata": {},
   "source": [
    "## Magic/Dunder methods"
   ]
  },
  {
   "cell_type": "markdown",
   "metadata": {},
   "source": [
    "Under the hood basically all Python data structures are objects:"
   ]
  },
  {
   "cell_type": "code",
   "execution_count": null,
   "metadata": {},
   "outputs": [],
   "source": [
    "print(isinstance(int, object))\n",
    "print(isinstance(str, object))\n",
    "print(isinstance(dict, object))\n",
    "print(isinstance(list, object))"
   ]
  },
  {
   "cell_type": "markdown",
   "metadata": {},
   "source": [
    "We can see a list of all their methods using the dir() function"
   ]
  },
  {
   "cell_type": "code",
   "execution_count": null,
   "metadata": {},
   "outputs": [],
   "source": [
    "dir(list)"
   ]
  },
  {
   "cell_type": "markdown",
   "metadata": {},
   "source": [
    "We can see some of our favourite methods such as append here. But theres also a lot of methods beginning and ending with __ . These are special methods for objects in Python that help us implement useful functionality. "
   ]
  },
  {
   "cell_type": "markdown",
   "metadata": {},
   "source": [
    "### __repr__ method"
   ]
  },
  {
   "cell_type": "markdown",
   "metadata": {},
   "source": [
    "When it comes to printing out dictionaries we get a really nice visual representation of them"
   ]
  },
  {
   "cell_type": "code",
   "execution_count": null,
   "metadata": {},
   "outputs": [],
   "source": [
    "x = {\"key\":\"value\"}\n",
    "print(x)"
   ]
  },
  {
   "cell_type": "markdown",
   "metadata": {},
   "source": [
    "If we implement a very similar structure as class we don't get such a nice output from the print statement"
   ]
  },
  {
   "cell_type": "code",
   "execution_count": null,
   "metadata": {},
   "outputs": [],
   "source": [
    "class KVPair:\n",
    "    def __init__(self, value: str) -> None:\n",
    "        self.key = value\n",
    "\n",
    "x = KVPair(\"value\")\n",
    "print(x)"
   ]
  },
  {
   "cell_type": "markdown",
   "metadata": {},
   "source": [
    "If we choose to implement (add) a function called __repr__ we can tell Python how the print function should act on this class"
   ]
  },
  {
   "cell_type": "code",
   "execution_count": null,
   "metadata": {},
   "outputs": [],
   "source": [
    "class KVPair:\n",
    "    def __init__(self, value: str) -> None:\n",
    "        self.key = value\n",
    "    \n",
    "    def __repr__(self) -> str:\n",
    "        return f\"key: {self.key}\"\n",
    "\n",
    "x = KVPair(\"value\")\n",
    "print(x)"
   ]
  },
  {
   "cell_type": "markdown",
   "metadata": {},
   "source": [
    "### __eq__ method"
   ]
  },
  {
   "cell_type": "markdown",
   "metadata": {},
   "source": [
    "It is often useful in Python to compare two data types using the == operator to see if they are semantically the same"
   ]
  },
  {
   "cell_type": "code",
   "execution_count": null,
   "metadata": {},
   "outputs": [],
   "source": [
    "x = {\"key\":\"value\"}\n",
    "y = {\"key\":\"value\"}\n",
    "print(x==y)"
   ]
  },
  {
   "cell_type": "markdown",
   "metadata": {},
   "source": [
    "This however does not work out of the box with objects:"
   ]
  },
  {
   "cell_type": "code",
   "execution_count": null,
   "metadata": {},
   "outputs": [],
   "source": [
    "x = KVPair(\"value\")\n",
    "y = KVPair(\"value\")\n",
    "print(x==y)"
   ]
  },
  {
   "cell_type": "markdown",
   "metadata": {},
   "source": [
    "We can \"fix\" this with the __eq__ method"
   ]
  },
  {
   "cell_type": "code",
   "execution_count": null,
   "metadata": {},
   "outputs": [],
   "source": [
    "class KVPair:\n",
    "    def __init__(self, value: str) -> None:\n",
    "        self.key = value\n",
    "    \n",
    "    def __repr__(self) -> str:\n",
    "        return f\"key: {self.key}\"\n",
    "\n",
    "    def __eq__(self, other: object) -> bool:\n",
    "        if type(self) == type(other):\n",
    "            return self.key == other.key\n",
    "        return False"
   ]
  },
  {
   "cell_type": "code",
   "execution_count": null,
   "metadata": {},
   "outputs": [],
   "source": [
    "x = KVPair(\"value\")\n",
    "y = KVPair(\"value\")\n",
    "print(x==y)"
   ]
  },
  {
   "cell_type": "markdown",
   "metadata": {},
   "source": [
    "### Ordering methods"
   ]
  },
  {
   "cell_type": "markdown",
   "metadata": {},
   "source": [
    "Sometimes it is useful to be able to apply ordering to objects. That is to say an object is bigger than another"
   ]
  },
  {
   "cell_type": "code",
   "execution_count": null,
   "metadata": {},
   "outputs": [],
   "source": [
    "x = 3\n",
    "y = 7\n",
    "y > x"
   ]
  },
  {
   "cell_type": "markdown",
   "metadata": {},
   "source": [
    "By default objects can't be compared\""
   ]
  },
  {
   "cell_type": "code",
   "execution_count": null,
   "metadata": {},
   "outputs": [],
   "source": [
    "x = KVPair(\"value\")\n",
    "y = KVPair(\"value\")\n",
    "print(x>y)"
   ]
  },
  {
   "cell_type": "markdown",
   "metadata": {},
   "source": [
    "We can however use the __gt__ greater than, __lt__ less than, __le__ less than or equal to, __ge__ greater than or equal to methods to add this functionality"
   ]
  },
  {
   "cell_type": "code",
   "execution_count": null,
   "metadata": {},
   "outputs": [],
   "source": [
    "class KVPair:\n",
    "    def __init__(self, value: str) -> None:\n",
    "        self.key = value\n",
    "    \n",
    "    def __repr__(self) -> str:\n",
    "        return f\"key: {self.key}\"\n",
    "\n",
    "    def __eq__(self, other: object) -> bool:\n",
    "        if type(self) == type(other):\n",
    "            return self.key == other.key\n",
    "        return False\n",
    "    \n",
    "    def __gt__(self, other: \"KVPair\") -> bool:\n",
    "        if type(self) == type(other): \n",
    "            return self.key > other.key\n",
    "        raise TypeError(f\"Cannot compare type {type(other)} with {type(self)}\")"
   ]
  },
  {
   "cell_type": "code",
   "execution_count": null,
   "metadata": {},
   "outputs": [],
   "source": [
    "x = KVPair(\"apple\")\n",
    "y = KVPair(\"banana\")\n",
    "print(x>y)"
   ]
  },
  {
   "cell_type": "markdown",
   "metadata": {},
   "source": [
    "If we have implemented this method we can actually now sort list of our objects using the sorted function:"
   ]
  },
  {
   "cell_type": "code",
   "execution_count": null,
   "metadata": {},
   "outputs": [],
   "source": [
    "obj_list = [y, x]\n",
    "print(obj_list)\n",
    "sorted_obj_list = sorted(obj_list)\n",
    "print(sorted_obj_list)"
   ]
  },
  {
   "cell_type": "markdown",
   "metadata": {},
   "source": [
    "## Dunder Attributes"
   ]
  },
  {
   "cell_type": "markdown",
   "metadata": {},
   "source": [
    "There are also special attributes that begin with __ in python. "
   ]
  },
  {
   "cell_type": "markdown",
   "metadata": {},
   "source": [
    "Two useful ones are __doc__ which displays the class's docstring and __dict__ which returns the objects attributes as a dictionary"
   ]
  },
  {
   "cell_type": "code",
   "execution_count": null,
   "metadata": {},
   "outputs": [],
   "source": [
    "class KVPair:\n",
    "    \"\"\"KVPair's docstring\"\"\"\n",
    "    def __init__(self, value: str) -> None:\n",
    "        self.key = value"
   ]
  },
  {
   "cell_type": "code",
   "execution_count": null,
   "metadata": {},
   "outputs": [],
   "source": [
    "x = KVPair(\"apple\")\n",
    "print(x.__doc__)\n",
    "print(x.__dict__)"
   ]
  },
  {
   "cell_type": "markdown",
   "metadata": {},
   "source": [
    "## Python's Data Model"
   ]
  },
  {
   "cell_type": "markdown",
   "metadata": {},
   "source": [
    "There are many more magic methods that can be implemented. The best place to find out more is to read the Python Data Model documentation: https://docs.python.org/3/reference/datamodel.html"
   ]
  },
  {
   "cell_type": "markdown",
   "metadata": {},
   "source": [
    "# Class and Static Methods"
   ]
  },
  {
   "cell_type": "markdown",
   "metadata": {},
   "source": [
    "## Binding concepts to classes"
   ]
  },
  {
   "cell_type": "markdown",
   "metadata": {},
   "source": [
    "We can actually bind data to classes rather than objects"
   ]
  },
  {
   "cell_type": "code",
   "execution_count": null,
   "metadata": {},
   "outputs": [],
   "source": [
    "class Circle:\n",
    "    pi = 3.14159\n",
    "    \n",
    "    def __init__(self, radius: float):\n",
    "        self.radius = radius\n",
    "        \n",
    "    def compute_circumference(self):\n",
    "        return self.pi*self.radius*2"
   ]
  },
  {
   "cell_type": "markdown",
   "metadata": {},
   "source": [
    "We can access the value of pi as follows"
   ]
  },
  {
   "cell_type": "code",
   "execution_count": null,
   "metadata": {},
   "outputs": [],
   "source": [
    "Circle.pi"
   ]
  },
  {
   "cell_type": "code",
   "execution_count": null,
   "metadata": {},
   "outputs": [],
   "source": [
    "circle = Circle(2)\n",
    "circle.compute_circumference()"
   ]
  },
  {
   "cell_type": "markdown",
   "metadata": {},
   "source": [
    "In principle you can actaully change the class attribute value at run time (DONT it will make your code VERY confusing)"
   ]
  },
  {
   "cell_type": "code",
   "execution_count": null,
   "metadata": {},
   "outputs": [],
   "source": [
    "circle_old = Circle(2)\n",
    "Circle.pi = 3\n",
    "circle_new = Circle(2)\n",
    "print(circle_old.compute_circumference())\n",
    "print(circle_new.compute_circumference())"
   ]
  },
  {
   "cell_type": "markdown",
   "metadata": {},
   "source": [
    "But the point is we can bind concepts to the class and access our class in the code as if it was an object. We can use this idea to help group concepts together."
   ]
  },
  {
   "cell_type": "markdown",
   "metadata": {},
   "source": [
    "## Class methods"
   ]
  },
  {
   "cell_type": "markdown",
   "metadata": {},
   "source": [
    "The idea of class methods is that rather than having access to the self property (ie the object being constructed) they have access to the underlying class. We can use this generate classes in alternative ways to the __init__ method"
   ]
  },
  {
   "cell_type": "code",
   "execution_count": null,
   "metadata": {},
   "outputs": [],
   "source": [
    "class Circle:\n",
    "    pi = 3.14159\n",
    "    \n",
    "    def __init__(self, radius: float):\n",
    "        self.radius = radius\n",
    "    \n",
    "    def __repr__(self) -> float:\n",
    "        return f\"A circle with radius: {self.radius}\"\n",
    "        \n",
    "    def compute_circumference(self):\n",
    "        return self.pi*self.radius*2\n",
    "    \n",
    "    @classmethod\n",
    "    def from_circumference(cls, circumference: float) -> \"Circle\":\n",
    "        radius = circumference/2/cls.pi\n",
    "        return cls(radius)"
   ]
  },
  {
   "cell_type": "code",
   "execution_count": null,
   "metadata": {},
   "outputs": [],
   "source": [
    "circle = Circle(2.0)\n",
    "print(circle)\n",
    "circle = Circle.from_circumference(12.56636)\n",
    "print(circle)"
   ]
  },
  {
   "cell_type": "markdown",
   "metadata": {},
   "source": [
    "To make a method into a class method we apply the @classmethod decorator(https://www.geeksforgeeks.org/decorators-in-python/) to it (this essientally alters the behaviour. Then similar to the init method the first parameter is special but rather than providing access to the underlying object it provides access to the underlying class. By convention we call it cls."
   ]
  },
  {
   "cell_type": "markdown",
   "metadata": {},
   "source": [
    "It is worth contrasting this functionality against an alternative implementation"
   ]
  },
  {
   "cell_type": "code",
   "execution_count": null,
   "metadata": {},
   "outputs": [],
   "source": [
    "class Circle:\n",
    "    pi = 3.14159\n",
    "    \n",
    "    def __init__(self, radius: float = None, circumference = None):\n",
    "        if radius and not circumference:\n",
    "            self.radius = radius\n",
    "        elif circumference and not radius:\n",
    "            self.radius = circumference/2/self.pi\n",
    "        else:\n",
    "            raise ValueError(\"Provide either radius or circumference exclusively\")\n",
    "    \n",
    "    def __repr__(self) -> float:\n",
    "        return f\"A circle with radius: {self.radius}\"\n",
    "\n",
    "circle = Circle(radius=2.0)\n",
    "print(circle)\n",
    "circle = Circle(circumference=12.56636)\n",
    "print(circle)"
   ]
  },
  {
   "cell_type": "markdown",
   "metadata": {},
   "source": [
    "The __init__ method is now pretty clunky and has low cohesion. \n",
    "Imagine you now need to be able to construct circle knowing only their area! This creates complex logic in the __init__ method and requires the constructor to be rewritten (who knows what unexpected changes this has upstream!). It's trivial to extend this with class methods"
   ]
  },
  {
   "cell_type": "code",
   "execution_count": null,
   "metadata": {},
   "outputs": [],
   "source": [
    "import math\n",
    "\n",
    "class Circle:\n",
    "    pi = 3.14159\n",
    "    \n",
    "    def __init__(self, radius: float):\n",
    "        self.radius = radius\n",
    "    \n",
    "    def __repr__(self) -> float:\n",
    "        return f\"A circle with radius: {self.radius}\"\n",
    "        \n",
    "    def compute_circumference(self):\n",
    "        return self.pi*self.radius*2\n",
    "    \n",
    "    @classmethod\n",
    "    def from_circumference(cls, circumference: float) -> \"Circle\":\n",
    "        radius = circumference/2/cls.pi\n",
    "        return cls(radius)\n",
    "    \n",
    "    @classmethod\n",
    "    def from_area(cls, area: float) -> \"Circle\":\n",
    "        radius = math.sqrt(2*area/cls.pi)\n",
    "        return cls(radius)"
   ]
  },
  {
   "cell_type": "code",
   "execution_count": null,
   "metadata": {},
   "outputs": [],
   "source": [
    "circle = Circle.from_area(4)\n",
    "print(circle)"
   ]
  },
  {
   "cell_type": "markdown",
   "metadata": {},
   "source": [
    "## Static Methods"
   ]
  },
  {
   "cell_type": "markdown",
   "metadata": {},
   "source": [
    "Sometimes we want to add a method to a class that doesn't require access to the underlying object. This is somewhat unecessary in Python from a functionality perspective but it can be useful from a code organisation perspective. That is this method belongs with this class and is probably not used elsewhere"
   ]
  },
  {
   "cell_type": "markdown",
   "metadata": {},
   "source": [
    "The below example is not something you'd really do in Python (you'd use a module to implement this functionality) but it's useful to see it in action"
   ]
  },
  {
   "cell_type": "code",
   "execution_count": null,
   "metadata": {},
   "outputs": [],
   "source": [
    "class Mathematics:\n",
    "    \n",
    "    @staticmethod\n",
    "    def add(x: float, y: float) -> float:\n",
    "        return x + y\n",
    "\n",
    "print(Mathematics.add(1,2))"
   ]
  },
  {
   "cell_type": "markdown",
   "metadata": {},
   "source": [
    "Personally I use them to tidy up standard methods in classes. Returning to the circle example:"
   ]
  },
  {
   "cell_type": "code",
   "execution_count": null,
   "metadata": {},
   "outputs": [],
   "source": [
    "import math\n",
    "\n",
    "class Circle:\n",
    "    pi = 3.14159\n",
    "    \n",
    "    def __init__(self, radius: float):\n",
    "        self.radius = radius\n",
    "    \n",
    "    def __repr__(self) -> float:\n",
    "        return f\"A circle with radius: {self.radius}\"\n",
    "        \n",
    "    def compute_circumference(self):\n",
    "        return self.pi*self.radius*2\n",
    "    \n",
    "    @staticmethod\n",
    "    def compute_radius_from_area(area: float) -> float:\n",
    "        return math.sqrt(2*area/Circle.pi)\n",
    "    \n",
    "    @staticmethod\n",
    "    def compute_radius_from_circumference(circumference: float) -> float:\n",
    "        return circumference/2/Circle.pi\n",
    "    \n",
    "    @classmethod\n",
    "    def from_circumference(cls, circumference: float) -> \"Circle\":\n",
    "        radius = cls.compute_radius_from_circumference(circumference)\n",
    "        return cls(radius)\n",
    "    \n",
    "    @classmethod\n",
    "    def from_area(cls, area: float) -> \"Circle\":\n",
    "        radius = cls.compute_radius_from_area(area)\n",
    "        return cls(radius)\n",
    "\n",
    "circle = Circle.from_area(4)\n",
    "print(circle)\n",
    "\n",
    "circle = Circle.from_circumference(12.56636)\n",
    "print(circle)"
   ]
  },
  {
   "cell_type": "markdown",
   "metadata": {},
   "source": [
    "# Inheritance"
   ]
  },
  {
   "cell_type": "markdown",
   "metadata": {},
   "source": [
    "Much like in the real world some categories are sub categories of others. For example we could have a class that represented a Person"
   ]
  },
  {
   "cell_type": "code",
   "execution_count": null,
   "metadata": {},
   "outputs": [],
   "source": [
    "class Person:\n",
    "    \n",
    "    def __init__(self, name: str, age: int, haircut: str):\n",
    "        self.name = name\n",
    "        self.age = age\n",
    "        self.haircut = haircut\n",
    "    \n",
    "    def get_haircut(self):\n",
    "        self.haircut = \"short\"\n",
    "        \n",
    "    def grow_hair(self):\n",
    "        self.haircut = \"long\"    "
   ]
  },
  {
   "cell_type": "markdown",
   "metadata": {},
   "source": [
    "Now some people could be Employees and we'd want a class to represent them. They're also going to be People in our system so they will need all the functionality of people. We might implement them as such"
   ]
  },
  {
   "cell_type": "code",
   "execution_count": null,
   "metadata": {},
   "outputs": [],
   "source": [
    "class Employee:\n",
    "    \n",
    "    def __init__(self, name: str, age: int, haircut: str, role: str):\n",
    "        self.name = name\n",
    "        self.age = age\n",
    "        self.haircut = haircut\n",
    "        self.role = role\n",
    "    \n",
    "    def get_haircut(self):\n",
    "        self.haircut = \"short\"\n",
    "        \n",
    "    def grow_hair(self):\n",
    "        self.haircut = \"long\"    \n",
    "    \n",
    "    def change_role(self, new_role: str):\n",
    "        self.role = new_role"
   ]
  },
  {
   "cell_type": "markdown",
   "metadata": {},
   "source": [
    "While this works it has a key draw back that the relationship between employee and person isn't really established in the code. If we changed Person this wouldn't be reflected in Employee we'd have to remember to update employee. This is the same problem we always have when we copy and paste code. "
   ]
  },
  {
   "cell_type": "markdown",
   "metadata": {},
   "source": [
    "We can fix this issue with a concept known as inhertitance. This is written as follows:"
   ]
  },
  {
   "cell_type": "code",
   "execution_count": null,
   "metadata": {},
   "outputs": [],
   "source": [
    "class Employee(Person):\n",
    "    \n",
    "    def __init__(self, name: str, age: int, haircut: str, role: str):\n",
    "        super().__init__(name, age, haircut)\n",
    "        self.role = role \n",
    "    \n",
    "    def change_role(self, new_role: str):\n",
    "        self.role = new_role"
   ]
  },
  {
   "cell_type": "markdown",
   "metadata": {},
   "source": [
    "Let's see that the class functions as expected:"
   ]
  },
  {
   "cell_type": "code",
   "execution_count": null,
   "metadata": {},
   "outputs": [],
   "source": [
    "tim = Employee(\"Tim\", 34 , \"long\", \"Pilot\")\n",
    "print(tim.__dict__)\n",
    "tim.get_haircut()\n",
    "print(tim.__dict__)"
   ]
  },
  {
   "cell_type": "code",
   "execution_count": null,
   "metadata": {},
   "outputs": [],
   "source": [
    "sarah = Person(\"Sarah\", 43, \"long\")\n",
    "print(sarah.__dict__)"
   ]
  },
  {
   "cell_type": "code",
   "execution_count": null,
   "metadata": {},
   "outputs": [],
   "source": [
    "print(isinstance(tim, Employee))\n",
    "print(isinstance(tim, Person))\n",
    "print(isinstance(sarah, Employee))\n",
    "print(isinstance(sarah, Person))"
   ]
  },
  {
   "cell_type": "markdown",
   "metadata": {},
   "source": [
    "The super() function in the above example is used to access the superclasses constructor."
   ]
  },
  {
   "cell_type": "markdown",
   "metadata": {},
   "source": [
    "We can actually inherit from an inherited class "
   ]
  },
  {
   "cell_type": "code",
   "execution_count": null,
   "metadata": {},
   "outputs": [],
   "source": [
    "class PartTimeEmployee(Employee):\n",
    "     def __init__(self, name: str, age: int, haircut: str, role: str, weekly_hours: float):\n",
    "        super().__init__(name, age, haircut, role)\n",
    "        self.weekly_hours = weekly_hours \n",
    "\n",
    "sam = PartTimeEmployee(\"Sam\", 23, \"short\", \"Butcher\", 20)\n",
    "print(sam.__dict__)\n",
    "print(isinstance(sam, PartTimeEmployee))\n",
    "print(isinstance(sam, Employee))\n",
    "print(isinstance(sam, Person))"
   ]
  },
  {
   "cell_type": "markdown",
   "metadata": {},
   "source": [
    "Be careful with this! You can create extremely complex and highly coupled code if you have too many layers of inheritence. If you feel you need more than 2 layera you should probably rethink your design."
   ]
  },
  {
   "cell_type": "code",
   "execution_count": null,
   "metadata": {},
   "outputs": [],
   "source": []
  }
 ],
 "metadata": {
  "kernelspec": {
   "display_name": "Python [conda env:Python3] *",
   "language": "python",
   "name": "conda-env-Python3-py"
  },
  "language_info": {
   "codemirror_mode": {
    "name": "ipython",
    "version": 3
   },
   "file_extension": ".py",
   "mimetype": "text/x-python",
   "name": "python",
   "nbconvert_exporter": "python",
   "pygments_lexer": "ipython3",
   "version": "3.8.2"
  }
 },
 "nbformat": 4,
 "nbformat_minor": 2
}
